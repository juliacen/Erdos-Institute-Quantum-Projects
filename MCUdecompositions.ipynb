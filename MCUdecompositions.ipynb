{
 "cells": [
  {
   "cell_type": "markdown",
   "id": "1c30b200",
   "metadata": {},
   "source": [
    "# Decompositions of the Multi-controlled U Gate\n",
    "**Author:** Julia Cen"
   ]
  },
  {
   "cell_type": "markdown",
   "id": "923dca67",
   "metadata": {},
   "source": [
    "In this notebook, we will construct a multi-controlled U $\\in$ U(2) gate that is composed of only 1-qubit gates and $CX$ gates. The definition of a multi-controlled U gate is as follows\n",
    "\n",
    "\\begin{equation}\n",
    "C^{n}U |x\\rangle_n |y\\rangle_1=\n",
    "\\begin{cases}\n",
    "    |x\\rangle_n U|y\\rangle_1,& \\text{if } x= (1,1,\\dots,1)\\\\\n",
    "    |x\\rangle_n |y\\rangle_1,              & \\text{otherwise}\n",
    "\\end{cases}\n",
    "\\end{equation}\n",
    "\n",
    "meaning that the U gate only acts on our target qubit, $1$, only if all $n$ of our control qubits are in the $1$ state and we do nothing otheriwse. The construction presented below follows the decomposition presented in Chapter 4 of the Nielson and Chaung textbook [1]."
   ]
  },
  {
   "cell_type": "code",
   "execution_count": 1,
   "id": "130cfcac",
   "metadata": {},
   "outputs": [],
   "source": [
    "from qiskit import *\n",
    "from qiskit.quantum_info import *\n",
    "from qiskit.circuit.library import *\n",
    "\n",
    "import numpy as np"
   ]
  },
  {
   "cell_type": "markdown",
   "id": "bacae9de",
   "metadata": {},
   "source": [
    "## Finding Phase and Euler Angles for a Given Unitary Matrix "
   ]
  },
  {
   "cell_type": "markdown",
   "id": "a53395ce",
   "metadata": {},
   "source": [
    "A given matrix U is unitary if $UU^\\dagger=1$, meaning $U^\\dagger=U^{-1}$. Unitary matrices have orthonomral rows and columns. The group of unitary matrices $U(N)$ is known to be the direct product of $U(1) \\times SU(N)$, where $U(1)$ are all complex numbers with absolute value of 1 (the phase) and $SU(N)$ is the special unitary group with determinant 1, with $SU(2)$ being homomorphic to $SO(3)$, the group of rotations in 3D space. There are many different forms that a unitary matrix can take as we can decompose a rotation in 3D space in different ways. One common form using the ZYZ decompostion where Z,Y are the rotations about the respective axes is\n",
    "\n",
    "\\begin{equation}\n",
    "U=e^{i\\gamma}\n",
    "\\begin{pmatrix}\n",
    "e^{i\\phi/2} & 0\\\\\n",
    "0 & e^{-i\\phi/2}\n",
    "\\end{pmatrix}\n",
    "\\begin{pmatrix}\n",
    "cos(\\theta/2) & -sin(\\theta/2)\\\\\n",
    "sin(\\theta/2) & cos(\\theta/2)\n",
    "\\end{pmatrix}\n",
    "\\begin{pmatrix}\n",
    "e^{i\\lambda/2} & 0\\\\\n",
    "0 & e^{-i\\lambda/2}\n",
    "\\end{pmatrix}\n",
    "\\end{equation}\n",
    "\n",
    "with $\\phi,\\theta,\\lambda$ the rotation/Euler angles. Given any unitary matrix, we can the the Euler angles and phase.\n",
    "<?\n",
    "This is the rotation matrix form used in Qiskit's various built-in gate sets:\n",
    "\\begin{equation}\n",
    "\\begin{pmatrix}\n",
    "\\cos{\\theta/2} & -e^{i\\lambda}\\sin{\\theta/2}\\\\\n",
    "e^{i\\phi}\\sin{\\theta/2} & e^{i(\\phi+\\lambda)}\\cos{\\theta/2}.\n",
    "\\end{pmatrix}\n",
    "\\end{equation}\n",
    "?>\n"
   ]
  },
  {
   "cell_type": "code",
   "execution_count": 2,
   "id": "bf7172b9",
   "metadata": {},
   "outputs": [
    {
     "name": "stdout",
     "output_type": "stream",
     "text": [
      "Euler angles and phase of given unitary matrix are:\n",
      "theta = 3.141592653589793\n",
      "phi   = -3.141592653589793\n",
      "lambda = 0.0\n",
      "phase = 1.5707963267948966\n"
     ]
    }
   ],
   "source": [
    "# Define a 2x2 unitary matrix\n",
    "unitary_input = [[0, 1],[1, 0]]\n",
    "\n",
    "# Make unitary_input a Qiskit Operator\n",
    "U = Operator(unitary_input)\n",
    "\n",
    "# Find the Euler angles and phase (theta, phi, lambda, phase)\n",
    "theta, phi, lamda, phase = OneQubitEulerDecomposer(basis='ZYZ').angles_and_phase(unitary_input)\n",
    "\n",
    "print(\"Euler angles and phase of given unitary matrix are:\")\n",
    "print(\"theta =\", theta)\n",
    "print(\"phi   =\", phi)\n",
    "print(\"lambda =\", lamda)\n",
    "print(\"phase =\", phase)"
   ]
  },
  {
   "cell_type": "markdown",
   "id": "98feed0d",
   "metadata": {},
   "source": [
    "## Implementing Multi-controlled Gates with Built-in Qiskit Gates"
   ]
  },
  {
   "cell_type": "markdown",
   "id": "e4ed1851",
   "metadata": {},
   "source": [
    "In Qiskit there are also different ways we can directly implement the $C^{n}U$ gate in a circuit. One is using the built-in multi-controlled mutli-target gate, MCMTGate, another using ControlledGate."
   ]
  },
  {
   "cell_type": "code",
   "execution_count": 12,
   "id": "863014c7",
   "metadata": {},
   "outputs": [
    {
     "data": {
      "image/png": "[encoded data removed]",
      "text/plain": [
       "<Figure size 296.91x284.278 with 1 Axes>"
      ]
     },
     "execution_count": 12,
     "metadata": {},
     "output_type": "execute_result"
    }
   ],
   "source": [
    "## MCMTGate method\n",
    "\n",
    "# Define the number of control qubits\n",
    "n=2\n",
    "\n",
    "# Define a 2x2 unitary matrix\n",
    "unitary_input = [[0, 1],[1, 0]]\n",
    "\n",
    "# Creating the C^{n}U gate with MCMTGate in a quantum circuit\n",
    "\n",
    "# Control register\n",
    "cr = QuantumRegister(size=n, name=\"cr\")\n",
    "# Target register\n",
    "tr = QuantumRegister(size=1, name=\"tr\")\n",
    "\n",
    "qc = QuantumCircuit(cr, tr, name=\"MCU\")\n",
    "\n",
    "qc.append(MCMT(gate=UnitaryGate(unitary_input), num_ctrl_qubits=n, num_target_qubits=1), range(n+1))\n",
    "\n",
    "qc.draw(output=\"mpl\", style=\"bw\")\n"
   ]
  },
  {
   "cell_type": "code",
   "execution_count": 13,
   "id": "7c9d3e1f",
   "metadata": {},
   "outputs": [
    {
     "data": {
      "image/png": "[encoded data removed]",
      "text/plain": [
       "<Figure size 296.91x284.278 with 1 Axes>"
      ]
     },
     "execution_count": 13,
     "metadata": {},
     "output_type": "execute_result"
    }
   ],
   "source": [
    "## ControlledGate method\n",
    "\n",
    "# Define the number of control qubits\n",
    "n=2\n",
    "\n",
    "# Define a 2x2 unitary matrix\n",
    "unitary_input = [[0, 1],[1, 0]]\n",
    "\n",
    "# Creating the C^{n}U gate with ControlledGate in a quantum circuit\n",
    "\n",
    "# Control register\n",
    "cr = QuantumRegister(size=n, name=\"cr\")\n",
    "# Target register\n",
    "tr = QuantumRegister(size=1, name=\"tr\")\n",
    "\n",
    "qc = QuantumCircuit(cr, tr, name=\"MCU\")\n",
    "\n",
    "mcu_gate = UnitaryGate(unitary_input).control(n)\n",
    "\n",
    "qc.append(mcu_gate, qc.qubits)\n",
    "\n",
    "qc.draw(output=\"mpl\", style=\"bw\")\n"
   ]
  },
  {
   "cell_type": "markdown",
   "id": "34ae2227",
   "metadata": {},
   "source": [
    "## Nielsen and Chuang Figure 4.10"
   ]
  },
  {
   "cell_type": "markdown",
   "id": "8a53ee63",
   "metadata": {},
   "source": [
    "Following [1], $C^{n}U$ can be decomposed into a $C^{1}U$ gate and Toffoli gates. The idea of this decomposition is to check whether the statement that our $n$ control qubits are in the state $|11\\dots 1\\rangle$ is true or false. If true, then the U gate is applied to our target qubit, if not, then we don't do anything to the target qubit. This method introduces $n-1$ ancilla quibts into the circuit that are initialized all to be in the 0 state. By running through the descending Toffoli gates, the information about whether each control qubit is in the state 1 is transferred to the final ancilla qubit, which will only be 1 if all the control qubits were in the 1 state and the U gate will be applied to the target qubit. The ascending Toffoli gates are just to make sure all ancillas are returned to the initial 0 states, to keep ancillas 'clean'.\n",
    "\n",
    "For an explicit example, let us take $n=3$, so we only apply the U gate to the target qubit $tr$ if all 3 control qubits $cr_{0,1,2}$ are 1. The first CCNOT gate turns the first ancilla, $ar_0$ to 1 only if both $cr_0$ and $cr_1$ are in the 1 state. The second CCNOT gate turns the second ancilla, $ar_1$ to 1 only if both $ar_0$ and $cr_2$, which is equivalent to all controls being 1. Then we just need a $C^{1}U$ gate to check the second ancilla; if it's 0 we don't apply U to the target qubit, if it's 1, we do."
   ]
  },
  {
   "cell_type": "code",
   "execution_count": 16,
   "id": "6f5722ce",
   "metadata": {},
   "outputs": [
    {
     "data": {
      "image/png": "[encoded data removed]",
      "text/plain": [
       "<Figure size 631.354x367.889 with 1 Axes>"
      ]
     },
     "execution_count": 16,
     "metadata": {},
     "output_type": "execute_result"
    }
   ],
   "source": [
    "# Define the number of control qubits\n",
    "n=2;\n",
    "\n",
    "# Control register\n",
    "cr = QuantumRegister(size=n, name=\"cr\")\n",
    "# Ancilla register\n",
    "ar = AncillaRegister(size=n-1, name=\"ar\")\n",
    "# Target register\n",
    "tr = QuantumRegister(size=1, name=\"tr\")\n",
    "\n",
    "qc = QuantumCircuit(cr, ar,tr, name=\"MCU\")\n",
    "\n",
    "qc.ccx(0,1,n)\n",
    "\n",
    "for i in range(n-2):\n",
    "    qc.barrier()\n",
    "    qc.ccx(cr[2+i],ar[i],ar[1+i])\n",
    "\n",
    "qc.barrier()\n",
    "qc.cu(phi,theta,lam,phase,ar[n-2],tr[0])\n",
    "\n",
    "for i in reversed(range(n-2)):\n",
    "    qc.barrier()\n",
    "    qc.ccx(cr[2+i],ar[i],ar[1+i])\n",
    "\n",
    "qc.barrier()\n",
    "qc.ccx(0,1,n)\n",
    "\n",
    "qc.draw(output=\"mpl\", style=\"bw\")"
   ]
  },
  {
   "cell_type": "markdown",
   "id": "4d862175",
   "metadata": {},
   "source": [
    "## Decomposing the CCX and CU Gates into CX and 1-qubit Gates"
   ]
  },
  {
   "cell_type": "markdown",
   "id": "12cb4a8f",
   "metadata": {},
   "source": [
    "The next step is to decompose our multi-controlled U $\\in$ U(2) gate to 1-qubit gates and $CX$ gates only, so we look at the decomposition of CCNOT and $C^{1}U$ gates. "
   ]
  },
  {
   "cell_type": "code",
   "execution_count": 2,
   "id": "443de99f",
   "metadata": {},
   "outputs": [],
   "source": [
    "# Toffoli gate decomposed into H,T,T^{\\dagger} and CXs only\n",
    "\n",
    "def decomposed_toffoli(c1, c2, t):\n",
    "    qc.h(t)\n",
    "    qc.cx(c2, t)\n",
    "    qc.tdg(t) # tdg is the method for the inverse of T\n",
    "    qc.cx(c1, t)\n",
    "    qc.t(t)\n",
    "    qc.cx(c2, t)\n",
    "    qc.tdg(t)\n",
    "    qc.cx(c1, t)\n",
    "    qc.t(t)\n",
    "    qc.h(t)\n",
    "    qc.cx(c1, c2)\n",
    "    qc.tdg(c2)\n",
    "    qc.cx(c1, c2)\n",
    "    qc.t(c1)\n",
    "    qc.t(c2)"
   ]
  },
  {
   "cell_type": "code",
   "execution_count": 21,
   "id": "3417e2e3",
   "metadata": {},
   "outputs": [
    {
     "name": "stdout",
     "output_type": "stream",
     "text": [
      "number of gates: 15\n",
      "circuit depth: 12\n"
     ]
    },
    {
     "data": {
      "image/png": "[encoded data removed]",
      "text/plain": [
       "<Figure size 1123.61x284.278 with 1 Axes>"
      ]
     },
     "execution_count": 21,
     "metadata": {},
     "output_type": "execute_result"
    }
   ],
   "source": [
    "# The decomposed Toffoli gate\n",
    "\n",
    "# Define the number of control qubits\n",
    "n=3;\n",
    "\n",
    "qc = QuantumCircuit(n)\n",
    "\n",
    "decomposed_toffoli(0, 1, 2)\n",
    "\n",
    "print(\"number of gates:\", qc.size())\n",
    "print(\"circuit depth:\", qc.depth())\n",
    "qc.draw(output=\"mpl\", style=\"bw\")"
   ]
  },
  {
   "cell_type": "markdown",
   "id": "9dc51676",
   "metadata": {},
   "source": [
    "From [1], we saw the $U$ gate can be expressed as $e^{i\\gamma}AXBXC$ where $A,B,C$ are the single qubit gates with $ABC=I$. In particular, we can take\n",
    "\n",
    "\\begin{align}\n",
    "A&=R_z(\\phi)R_y(\\theta/2)\\\\\n",
    "B&=R_y(-\\theta/2)R_z(-(\\lambda+\\phi)/2)\\\\\n",
    "C&=R_z((\\lambda-\\phi)/2)\n",
    "\\end{align}\n",
    "\n",
    "This us a very useful decomposition. The reason is because when we create the control gate $C^1U$ using this $U$ decomposition, when the control qubit is 0, only $ABC$, which is equivalent to the identity gate, is applied to the target qubit. When the control qubit is in the 1 state,  $e^{i\\gamma}$, the global phase gate, is applied to the control qubit and $AXBXC$ applied to the target qubit, which gives us the desired result."
   ]
  },
  {
   "cell_type": "code",
   "execution_count": 3,
   "id": "67101fbb",
   "metadata": {},
   "outputs": [
    {
     "name": "stdout",
     "output_type": "stream",
     "text": [
      "Euler angles and phase of given unitary matrix are:\n",
      "theta = 3.141592653589793\n",
      "phi   = -3.141592653589793\n",
      "lam = 0.0\n",
      "phase = 1.5707963267948966\n"
     ]
    }
   ],
   "source": [
    "# Define a 2x2 unitary matrix\n",
    "unitary_input = [[0, 1],[1, 0]]\n",
    "\n",
    "# Make unitary_input a Qiskit Operator\n",
    "U = Operator(unitary_input)\n",
    "\n",
    "# Find the Euler angles and phase (theta, phi, lambda, phase)\n",
    "theta, phi, lam, phase = OneQubitEulerDecomposer(basis='ZYZ').angles_and_phase(unitary_input)\n",
    "\n",
    "print(\"Euler angles and phase of given unitary matrix are:\")\n",
    "print(\"theta =\", theta)\n",
    "print(\"phi   =\", phi)\n",
    "print(\"lam =\", lam)\n",
    "print(\"phase =\", phase)\n",
    "\n",
    "# C^1U gate decomposed into CX and single qubit gates only\n",
    "def decomposed_c1u(phi,theta,lam,phase,c, t):\n",
    "    qc.rz((lam-phi)/2,t)\n",
    "    qc.cx(c, t)\n",
    "    qc.ry(-theta/2,t)\n",
    "    qc.rz(-(lam+phi)/2,t)\n",
    "    qc.cx(c, t)\n",
    "    qc.rz(phi,t)\n",
    "    qc.ry(theta/2,t)\n",
    "    qc.p(phase,c)"
   ]
  },
  {
   "cell_type": "code",
   "execution_count": 9,
   "id": "19fab91e",
   "metadata": {
    "scrolled": true
   },
   "outputs": [
    {
     "name": "stdout",
     "output_type": "stream",
     "text": [
      "number of gates: 8\n",
      "circuit depth: 7\n"
     ]
    },
    {
     "data": {
      "image/png": "[encoded data removed]",
      "text/plain": [
       "<Figure size 705.35x200.667 with 1 Axes>"
      ]
     },
     "execution_count": 9,
     "metadata": {},
     "output_type": "execute_result"
    }
   ],
   "source": [
    "# The decomposed C^1U gate\n",
    "\n",
    "# Define the number of control qubits\n",
    "n=2;\n",
    "\n",
    "qc = QuantumCircuit(n)\n",
    "\n",
    "decomposed_c1u(phi,theta,lam,phase,0,1)\n",
    "\n",
    "print(\"number of gates:\", qc.size())\n",
    "print(\"circuit depth:\", qc.depth())\n",
    "qc.draw(output=\"mpl\", style=\"bw\")"
   ]
  },
  {
   "cell_type": "markdown",
   "id": "038e44e9",
   "metadata": {},
   "source": [
    "## Multi-controlled U Gate Decomposed into CX and 1-qubit Gates"
   ]
  },
  {
   "cell_type": "markdown",
   "id": "8904e874",
   "metadata": {},
   "source": [
    "Now we can combine everything together to obtain a fully decomposed $C^nU$ gate in terms of CNOTs and 1-qubit gates only. We print the gate with and without barriers."
   ]
  },
  {
   "cell_type": "code",
   "execution_count": 7,
   "id": "a4474c2f",
   "metadata": {},
   "outputs": [
    {
     "name": "stdout",
     "output_type": "stream",
     "text": [
      "Euler angles and phase of given unitary matrix are:\n",
      "theta = 3.141592653589793\n",
      "phi   = -3.141592653589793\n",
      "lam = 0.0\n",
      "phase = 1.5707963267948966\n",
      "number of gates: 38\n",
      "circuit depth: 31\n"
     ]
    },
    {
     "data": {
      "image/png": "[encoded data removed]",
      "text/plain": [
       "<Figure size 2219.97x785.944 with 1 Axes>"
      ]
     },
     "execution_count": 7,
     "metadata": {},
     "output_type": "execute_result"
    }
   ],
   "source": [
    "# Define the number of control qubits\n",
    "n=2;\n",
    "\n",
    "# Define a 2x2 unitary matrix\n",
    "unitary_input = [[0, 1],[1, 0]]\n",
    "\n",
    "# Make unitary_input a Qiskit Operator\n",
    "U = Operator(unitary_input)\n",
    "\n",
    "# Find the Euler angles and phase (theta, phi, lambda, phase)\n",
    "theta, phi, lam, phase = OneQubitEulerDecomposer(basis='ZYZ').angles_and_phase(unitary_input)\n",
    "\n",
    "print(\"Euler angles and phase of given unitary matrix are:\")\n",
    "print(\"theta =\", theta)\n",
    "print(\"phi   =\", phi)\n",
    "print(\"lam =\", lam)\n",
    "print(\"phase =\", phase)\n",
    "\n",
    "# Control register\n",
    "cr = QuantumRegister(size=n, name=\"cr\")\n",
    "# Ancilla register\n",
    "ar = AncillaRegister(size=n-1, name=\"ar\")\n",
    "# Target register\n",
    "tr = QuantumRegister(size=1, name=\"tr\")\n",
    "\n",
    "qc = QuantumCircuit(cr, ar,tr, name=\"MCU\")\n",
    "\n",
    "decomposed_toffoli(0,1,n)\n",
    "\n",
    "for i in range(n-2):\n",
    "    qc.barrier()\n",
    "    decomposed_toffoli(cr[2+i],ar[i],ar[1+i])\n",
    "\n",
    "qc.barrier()\n",
    "decomposed_c1u(phi,theta,lam,phase,ar[n-2],tr[0])\n",
    "\n",
    "for i in reversed(range(n-2)):\n",
    "    qc.barrier()\n",
    "    decomposed_toffoli(cr[2+i],ar[i],ar[1+i])\n",
    "\n",
    "qc.barrier()\n",
    "decomposed_toffoli(0,1,n)\n",
    "\n",
    "print(\"number of gates:\", qc.size())\n",
    "print(\"circuit depth:\", qc.depth())\n",
    "qc.draw(output=\"mpl\", style=\"bw\")"
   ]
  },
  {
   "cell_type": "markdown",
   "id": "d36c1c42",
   "metadata": {},
   "source": [
    "The circuit without barriers to obtain true circuit depth."
   ]
  },
  {
   "cell_type": "code",
   "execution_count": 19,
   "id": "209a8aec",
   "metadata": {},
   "outputs": [
    {
     "name": "stdout",
     "output_type": "stream",
     "text": [
      "Euler angles and phase of given unitary matrix are:\n",
      "theta = 3.141592653589793\n",
      "phi   = -3.141592653589793\n",
      "lam = 0.0\n",
      "phase = 1.5707963267948966\n",
      "number of gates: 38\n",
      "circuit depth: 27\n"
     ]
    },
    {
     "data": {
      "image/png": "[encoded data removed]",
      "text/plain": [
       "<Figure size 2219.97x785.944 with 1 Axes>"
      ]
     },
     "execution_count": 19,
     "metadata": {},
     "output_type": "execute_result"
    }
   ],
   "source": [
    "# Define the number of control qubits\n",
    "n=2;\n",
    "\n",
    "# Define a 2x2 unitary matrix\n",
    "unitary_input = [[0, 1],[1, 0]]\n",
    "\n",
    "# Make unitary_input a Qiskit Operator\n",
    "U = Operator(unitary_input)\n",
    "\n",
    "# Find the Euler angles and phase (theta, phi, lambda, phase)\n",
    "theta, phi, lam, phase = OneQubitEulerDecomposer(basis='ZYZ').angles_and_phase(unitary_input)\n",
    "\n",
    "print(\"Euler angles and phase of given unitary matrix are:\")\n",
    "print(\"theta =\", theta)\n",
    "print(\"phi   =\", phi)\n",
    "print(\"lam =\", lam)\n",
    "print(\"phase =\", phase)\n",
    "\n",
    "# Control register\n",
    "cr = QuantumRegister(size=n, name=\"cr\")\n",
    "# Ancilla register\n",
    "ar = AncillaRegister(size=n-1, name=\"ar\")\n",
    "# Target register\n",
    "tr = QuantumRegister(size=1, name=\"tr\")\n",
    "\n",
    "qc = QuantumCircuit(cr, ar,tr, name=\"MCU\")\n",
    "\n",
    "decomposed_toffoli(0,1,n)\n",
    "\n",
    "for i in range(n-2):\n",
    "    decomposed_toffoli(cr[2+i],ar[i],ar[1+i])\n",
    "\n",
    "decomposed_c1u(phi,theta,lam,phase,ar[n-2],tr[0])\n",
    "\n",
    "for i in reversed(range(n-2)):\n",
    "    decomposed_toffoli(cr[2+i],ar[i],ar[1+i])\n",
    "\n",
    "decomposed_toffoli(0,1,n)\n",
    "\n",
    "print(\"number of gates:\", qc.size())\n",
    "print(\"circuit depth:\", qc.depth())\n",
    "qc.draw(output=\"mpl\", style=\"bw\")\n"
   ]
  },
  {
   "cell_type": "markdown",
   "id": "34a714c0",
   "metadata": {},
   "source": [
    "# Benchmarking"
   ]
  },
  {
   "cell_type": "markdown",
   "id": "c1289f3c",
   "metadata": {},
   "source": [
    "In this section, we test that our decomposition of a multi-controlled U gate matches with the definition, which means for a given n, the U gate is only applied to the target bit if all controls are in the 1 state."
   ]
  },
  {
   "cell_type": "code",
   "execution_count": 9,
   "id": "bccc2f2a",
   "metadata": {},
   "outputs": [
    {
     "name": "stdout",
     "output_type": "stream",
     "text": [
      "['0000', '0100', '1000', '1100', '0001', '0101', '1001', '1101']\n"
     ]
    }
   ],
   "source": [
    "# Define the number of control qubits\n",
    "n = 2\n",
    "\n",
    "bits0=[]\n",
    "bits1=[]\n",
    "\n",
    "# Create list of all possible bitstrings (ancillas kept 0)\n",
    "for i in range(2 ** n):\n",
    "    # target qubit in the 0 state\n",
    "    bits0.append(bin(i)[2:].zfill(n)+'0'*n)\n",
    "    # target qubit in the 1 state\n",
    "    bits1.append(bin(i)[2:].zfill(n)+'0'*(n-1)+'1')\n",
    "\n",
    "bits = bits0 + bits1\n",
    "print(bits)"
   ]
  },
  {
   "cell_type": "markdown",
   "id": "1bbb9f6e",
   "metadata": {},
   "source": [
    "Let us test the case when $n=2$ and U is the XGATE, then our target qubit state should change from $0,1$ to $1,0$ only if both our controls are in the 1 state. "
   ]
  },
  {
   "cell_type": "code",
   "execution_count": 20,
   "id": "a0000328",
   "metadata": {},
   "outputs": [
    {
     "name": "stdout",
     "output_type": "stream",
     "text": [
      "Input | 0000 >\n"
     ]
    },
    {
     "data": {
      "text/latex": [
       "$$(\\frac{1}{2} - \\frac{i}{2}) |0000\\rangle+(\\frac{1}{2} + \\frac{i}{2}) |1000\\rangle$$"
      ],
      "text/plain": [
       "<IPython.core.display.Latex object>"
      ]
     },
     "metadata": {},
     "output_type": "display_data"
    },
    {
     "name": "stdout",
     "output_type": "stream",
     "text": [
      "Input | 0010 >\n"
     ]
    },
    {
     "data": {
      "text/latex": [
       "$$(\\frac{1}{2} - \\frac{i}{2}) |0010\\rangle+(\\frac{1}{2} + \\frac{i}{2}) |1010\\rangle$$"
      ],
      "text/plain": [
       "<IPython.core.display.Latex object>"
      ]
     },
     "metadata": {},
     "output_type": "display_data"
    },
    {
     "name": "stdout",
     "output_type": "stream",
     "text": [
      "Input | 0001 >\n"
     ]
    },
    {
     "data": {
      "text/latex": [
       "$$(\\frac{1}{2} - \\frac{i}{2}) |0001\\rangle+(\\frac{1}{2} + \\frac{i}{2}) |1001\\rangle$$"
      ],
      "text/plain": [
       "<IPython.core.display.Latex object>"
      ]
     },
     "metadata": {},
     "output_type": "display_data"
    },
    {
     "name": "stdout",
     "output_type": "stream",
     "text": [
      "Input | 0011 >\n"
     ]
    },
    {
     "data": {
      "text/latex": [
       "$$(- \\frac{1}{2} + \\frac{i}{2}) |0011\\rangle+(- \\frac{1}{2} - \\frac{i}{2}) |1011\\rangle$$"
      ],
      "text/plain": [
       "<IPython.core.display.Latex object>"
      ]
     },
     "metadata": {},
     "output_type": "display_data"
    },
    {
     "name": "stdout",
     "output_type": "stream",
     "text": [
      "Input | 1000 >\n"
     ]
    },
    {
     "data": {
      "text/latex": [
       "$$(- \\frac{1}{2} + \\frac{i}{2}) |0000\\rangle+(\\frac{1}{2} + \\frac{i}{2}) |1000\\rangle$$"
      ],
      "text/plain": [
       "<IPython.core.display.Latex object>"
      ]
     },
     "metadata": {},
     "output_type": "display_data"
    },
    {
     "name": "stdout",
     "output_type": "stream",
     "text": [
      "Input | 1010 >\n"
     ]
    },
    {
     "data": {
      "text/latex": [
       "$$(- \\frac{1}{2} + \\frac{i}{2}) |0010\\rangle+(\\frac{1}{2} + \\frac{i}{2}) |1010\\rangle$$"
      ],
      "text/plain": [
       "<IPython.core.display.Latex object>"
      ]
     },
     "metadata": {},
     "output_type": "display_data"
    },
    {
     "name": "stdout",
     "output_type": "stream",
     "text": [
      "Input | 1001 >\n"
     ]
    },
    {
     "data": {
      "text/latex": [
       "$$(- \\frac{1}{2} + \\frac{i}{2}) |0001\\rangle+(\\frac{1}{2} + \\frac{i}{2}) |1001\\rangle$$"
      ],
      "text/plain": [
       "<IPython.core.display.Latex object>"
      ]
     },
     "metadata": {},
     "output_type": "display_data"
    },
    {
     "name": "stdout",
     "output_type": "stream",
     "text": [
      "Input | 1011 >\n"
     ]
    },
    {
     "data": {
      "text/latex": [
       "$$(- \\frac{1}{2} + \\frac{i}{2}) |0011\\rangle+(\\frac{1}{2} + \\frac{i}{2}) |1011\\rangle$$"
      ],
      "text/plain": [
       "<IPython.core.display.Latex object>"
      ]
     },
     "metadata": {},
     "output_type": "display_data"
    }
   ],
   "source": [
    "# run the quantum circuit through all bitstrings\n",
    "for i in range(2*2 ** n):\n",
    "    # we reverse bitstring order following Qiskit's convention, so the order is |tr,ar,cr> ([::-1] reverses string)\n",
    "    input_state = Statevector.from_label(bits[i][::-1])\n",
    "    output_state = input_state.evolve(qc)\n",
    "    \n",
    "    print(\"Input\", \"|\", bits[i][::-1], \">\")\n",
    "    display(output_state.draw(output=\"Latex\"))"
   ]
  },
  {
   "cell_type": "markdown",
   "id": "a32b5801",
   "metadata": {},
   "source": [
    "# Complexities and Resources"
   ]
  },
  {
   "cell_type": "markdown",
   "id": "68648d25",
   "metadata": {},
   "source": [
    "Here we analyze the cost of implementing the $C^nU$ gate via the decomposition presented in this notebook. "
   ]
  },
  {
   "cell_type": "markdown",
   "id": "75af34e0",
   "metadata": {},
   "source": [
    "| no. controls (n) | no. ancillas | total qubits | no. Toffolis | no. single gates | no. cnots | no. single & cnots | gate depth |\n",
    "|:--------:|:--------:|:--------:|:--------:|:--------:|:--------:|:--------:|:--------:|\n",
    "|  0   |  0   |  1   |  0   |  1   |  0   |  1   |  1   |\n",
    "|  1   |  0   |  2   |  0   |  6   |  2   |  8   |  7   |\n",
    "|  2   |  1   |  4   |  2   |  24   |  14   |  38   |  27   |\n",
    "|  3   |  2   |  6   |  4   |  42   |  26   |  68   |  48   |\n",
    "|  4   |  3   |  8   |  6   |  60   |  38   |  98   |  69   |\n",
    "|  5   |  4   |  10  |  8   |  78   |  50   | 128    |  90   |\n",
    "\n",
    "In general for $n\\geq 2$, we have\n",
    "\n",
    "| no. controls (n) | no. ancillas | total qubits | no. Toffolis | no. single gates | no. cnots | no. single & cnots | gate depth |\n",
    "|:--------:|:--------:|:--------:|:--------:|:--------:|:--------:|:--------:|:--------:|\n",
    "|  n   |  n-1 |  2n  |  2(n-1)   |  18n-12   |  12n-10   |  30n-22   |  21n-15   |\n",
    "\n",
    "As $n\\rightarrow\\infty$, using the big-O notation we have  \n",
    "\n",
    "| no. controls (n) | no. ancillas | total qubits | no. Toffolis | no. single gates | no. cnots | no. single & cnots | gate depth |\n",
    "|:--------:|:--------:|:--------:|:--------:|:--------:|:--------:|:--------:|:--------:|\n",
    "|  O($n$)  |  O($n$)  |  O($n$)  |  O($n$)  |  O($n$)  |  O($n$)  |  O($n$)  |  O($n$)  |"
   ]
  },
  {
   "cell_type": "markdown",
   "id": "fccd3228",
   "metadata": {},
   "source": [
    "The gate count and depth shown above is the upper bound. With more familarity with special gate patterns, some sort of optimization may be done to reduce these numbers. Another idea is to look at runtime and noise implementing this decomposition on real hardware and compare with Qiskit's built in gates. "
   ]
  },
  {
   "cell_type": "markdown",
   "id": "3796307b",
   "metadata": {},
   "source": [
    "# Other Decomposition Methods"
   ]
  },
  {
   "cell_type": "markdown",
   "id": "ce1e0ad8",
   "metadata": {},
   "source": [
    "I am currently reading [2] and trying to understand how the grey code can be implemented in a quantum circuit for further optimization on the construction of MCU gates."
   ]
  },
  {
   "cell_type": "markdown",
   "id": "735dd593",
   "metadata": {},
   "source": [
    "# References\n",
    "\n",
    "[1] Nielsen, M. & Chuang, I., Quantum Computation and Quantum Information: 10th Anniversary Edition, Cambridge University Press, (2011).\n",
    "\n",
    "[2] Barenco, A., Bennett, C.H., Cleve, R., DiVincenzo, D.P., Margolus, N., Shor, P., Sleator, T., Smolin, J.A. and Weinfurter, H., Elementary gates for quantum computation, Physical review A, 52(5), p.3457, (1995).\n",
    "\n",
    "[3] Da Silva, A.J. and Park, D.K., Linear-depth quantum circuits for multiqubit controlled gates, Physical Review A, 106(4), p.042602, (2022)."
   ]
  }
 ],
 "metadata": {
  "kernelspec": {
   "display_name": "Qiskit (stable)",
   "language": "python",
   "name": "qiskit-stable"
  },
  "language_info": {
   "codemirror_mode": {
    "name": "ipython",
    "version": 3
   },
   "file_extension": ".py",
   "mimetype": "text/x-python",
   "name": "python",
   "nbconvert_exporter": "python",
   "pygments_lexer": "ipython3",
   "version": "3.11.5"
  }
 },
 "nbformat": 4,
 "nbformat_minor": 5
}
